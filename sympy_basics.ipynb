{
 "cells": [
  {
   "cell_type": "markdown",
   "metadata": {},
   "source": [
    "### **Импорт библиотеки и присваивание имени для удобства доступа**\n"
   ]
  },
  {
   "cell_type": "code",
   "execution_count": 2,
   "metadata": {
    "tags": []
   },
   "outputs": [
    {
     "name": "stdout",
     "output_type": "stream",
     "text": [
      "1.12\n"
     ]
    }
   ],
   "source": [
    "import sympy as smp\n",
    "import numpy as np\n",
    "from math import *\n",
    "from matplotlib import pyplot as plt\n",
    "smp.init_printing(use_unicode=True)\n",
    "\n",
    "print(smp.__version__)"
   ]
  },
  {
   "cell_type": "markdown",
   "metadata": {},
   "source": [
    "### `Базовые операции с переменными`"
   ]
  },
  {
   "cell_type": "code",
   "execution_count": 3,
   "metadata": {},
   "outputs": [
    {
     "data": {
      "image/png": "[encoded data removed]",
      "text/latex": [
       "$\\displaystyle \\left[ -3, \\  -1\\right]$"
      ],
      "text/plain": [
       "[-3, -1]"
      ]
     },
     "execution_count": 3,
     "metadata": {},
     "output_type": "execute_result"
    }
   ],
   "source": [
    "x = smp.symbols('x')\n",
    "y = smp.sin(x)\n",
    "z = y - x**2\n",
    "y = x**2 + 4*x + 3\n",
    "z = y**2\n",
    "\n",
    "z.factor()\n",
    "z.expand()\n",
    "z.as_poly()\n",
    "smp.solve(z, x)"
   ]
  },
  {
   "cell_type": "markdown",
   "metadata": {},
   "source": [
    "### `Функции от нескольких аргументов, преобразования в численный вид для построения графиков`"
   ]
  },
  {
   "cell_type": "code",
   "execution_count": 4,
   "metadata": {},
   "outputs": [],
   "source": [
    "z_num = np.linspace(0,100, 101)"
   ]
  },
  {
   "cell_type": "code",
   "execution_count": 5,
   "metadata": {},
   "outputs": [
    {
     "name": "stderr",
     "output_type": "stream",
     "text": [
      "<lambdifygenerated-1>:2: RuntimeWarning: invalid value encountered in log\n",
      "  return log(-1/2*x**2 + (3/2)*z)\n"
     ]
    },
    {
     "data": {
      "text/plain": [
       "Text(0.5, 1.0, 'y solution with fixed x')"
      ]
     },
     "execution_count": 5,
     "metadata": {},
     "output_type": "execute_result"
    },
    {
     "data": {
      "image/png": "[encoded data removed]",
      "text/plain": [
       "<Figure size 640x480 with 1 Axes>"
      ]
     },
     "metadata": {},
     "output_type": "display_data"
    }
   ],
   "source": [
    "x, y, z = smp.symbols(\"x y z\")\n",
    "F = x**2 + 2*smp.exp(y) - 3*z\n",
    "x_solutions = smp.solve(F, x)  # символьные решения относительно разных переменных\n",
    "y_solutions = smp.solve(F, y)\n",
    "z_solutions = smp.solve(F, z)\n",
    "y_solutions\n",
    "expr = y_solutions[0] # выбираем конкретное решение\n",
    "expr_f = smp.lambdify([x,z], expr) # преобразуем его в функцию\n",
    "expr_f.__class__  # class <function>\n",
    "expr_f(0.5, radians(90))  # можно использовать как обычную функцию двух переменных\n",
    "plt.plot(z_num, expr_f(0.5, z_num))  # теперь можно строить график\n",
    "plt.title(\"y solution with fixed x\")"
   ]
  },
  {
   "cell_type": "code",
   "execution_count": 6,
   "metadata": {},
   "outputs": [
    {
     "data": {
      "image/png": "[encoded data removed]",
      "text/latex": [
       "$\\displaystyle x^{2} - 3 z + 2 e^{y}$"
      ],
      "text/plain": [
       " 2            y\n",
       "x  - 3⋅z + 2⋅ℯ "
      ]
     },
     "execution_count": 6,
     "metadata": {},
     "output_type": "execute_result"
    }
   ],
   "source": [
    "F"
   ]
  },
  {
   "cell_type": "code",
   "execution_count": 7,
   "metadata": {},
   "outputs": [
    {
     "data": {
      "image/png": "[encoded data removed]",
      "text/latex": [
       "$\\displaystyle 16 + 2 e^{3}$"
      ],
      "text/plain": [
       "        3\n",
       "16 + 2⋅ℯ "
      ]
     },
     "execution_count": 7,
     "metadata": {},
     "output_type": "execute_result"
    }
   ],
   "source": [
    "a = F.subs([(x,5), (y,3), (z,3)])\n",
    "a\n"
   ]
  },
  {
   "cell_type": "code",
   "execution_count": 8,
   "metadata": {},
   "outputs": [
    {
     "data": {
      "image/png": "[encoded data removed]",
      "text/latex": [
       "$\\displaystyle 56.1710738463753$"
      ],
      "text/plain": [
       "56.1710738463753"
      ]
     },
     "execution_count": 8,
     "metadata": {},
     "output_type": "execute_result"
    }
   ],
   "source": [
    "a.evalf()"
   ]
  },
  {
   "cell_type": "markdown",
   "metadata": {},
   "source": [
    "### `Конкретный пример`"
   ]
  },
  {
   "cell_type": "code",
   "execution_count": 9,
   "metadata": {},
   "outputs": [
    {
     "data": {
      "image/png": "[encoded data removed]",
      "text/latex": [
       "$\\displaystyle \\frac{1}{100}$"
      ],
      "text/plain": [
       "1/100"
      ]
     },
     "execution_count": 9,
     "metadata": {},
     "output_type": "execute_result"
    }
   ],
   "source": [
    "smp.Rational(1,100)"
   ]
  },
  {
   "cell_type": "code",
   "execution_count": 10,
   "metadata": {},
   "outputs": [
    {
     "data": {
      "image/png": "[encoded data removed]",
      "text/latex": [
       "$\\displaystyle 0.01$"
      ],
      "text/plain": [
       "0.01"
      ]
     },
     "execution_count": 10,
     "metadata": {},
     "output_type": "execute_result"
    }
   ],
   "source": [
    "1/100"
   ]
  },
  {
   "cell_type": "markdown",
   "metadata": {},
   "source": [
    "#### Задаем имена и условия задачи"
   ]
  },
  {
   "cell_type": "code",
   "execution_count": 11,
   "metadata": {},
   "outputs": [
    {
     "data": {
      "image/png": "[encoded data removed]",
      "text/latex": [
       "$\\displaystyle - \\frac{g t^{2}}{2} + h_{0} - t v_{0}$"
      ],
      "text/plain": [
       "     2            \n",
       "  g⋅t             \n",
       "- ──── + h₀ - t⋅v₀\n",
       "   2              "
      ]
     },
     "execution_count": 11,
     "metadata": {},
     "output_type": "execute_result"
    }
   ],
   "source": [
    "\"\"\"Время, начальная высота камня, начальная скорость камня, ускорение свободного падения,\n",
    "начальная скорость обьекта, ускорение обьекта\"\"\"\n",
    "t, h0, v0, g, vp, a = smp.symbols(\"t h_0 v_0 g v_p a\") \n",
    "h_obj = h0 - v0*t - smp.Rational(1,2)*g*t**2 # координата камня от времени\n",
    "h_obj\n"
   ]
  },
  {
   "cell_type": "code",
   "execution_count": 12,
   "metadata": {},
   "outputs": [
    {
     "data": {
      "image/png": "[encoded data removed]",
      "text/latex": [
       "$\\displaystyle \\frac{a t^{2}}{2} + t v_{p}$"
      ],
      "text/plain": [
       "   2       \n",
       "a⋅t        \n",
       "──── + t⋅vₚ\n",
       " 2         "
      ]
     },
     "execution_count": 12,
     "metadata": {},
     "output_type": "execute_result"
    }
   ],
   "source": [
    "h_platform = vp*t + smp.Rational(1,2)*a*t**2 # координата платформы от времени\n",
    "h_platform"
   ]
  },
  {
   "cell_type": "code",
   "execution_count": 13,
   "metadata": {},
   "outputs": [
    {
     "data": {
      "image/png": "[encoded data removed]",
      "text/latex": [
       "$\\displaystyle - g t - v_{0}$"
      ],
      "text/plain": [
       "-g⋅t - v₀"
      ]
     },
     "execution_count": 13,
     "metadata": {},
     "output_type": "execute_result"
    }
   ],
   "source": [
    "d_h0_dt = -g*t -v0 # скорость камня от времени\n",
    "d_h0_dt"
   ]
  },
  {
   "cell_type": "code",
   "execution_count": 14,
   "metadata": {},
   "outputs": [
    {
     "data": {
      "image/png": "[encoded data removed]",
      "text/latex": [
       "$\\displaystyle a t + v_{p}$"
      ],
      "text/plain": [
       "a⋅t + vₚ"
      ]
     },
     "execution_count": 14,
     "metadata": {},
     "output_type": "execute_result"
    }
   ],
   "source": [
    "d_hp_dt = vp + a*t # скорость платформы от времени\n",
    "d_hp_dt"
   ]
  },
  {
   "cell_type": "markdown",
   "metadata": {},
   "source": [
    "#### Решаем символьно"
   ]
  },
  {
   "cell_type": "code",
   "execution_count": 15,
   "metadata": {},
   "outputs": [],
   "source": [
    "eq1, eq2 = h_obj - h_platform, d_h0_dt + d_hp_dt # условия задачи\n",
    "solutions = smp.solve([eq1, eq2], [t,v0])  # выбираем переменные, относительно которых ищем решение\n",
    "t_sol, v_sol = solutions[0]"
   ]
  },
  {
   "cell_type": "code",
   "execution_count": 16,
   "metadata": {},
   "outputs": [
    {
     "data": {
      "image/png": "[encoded data removed]",
      "text/latex": [
       "$\\displaystyle \\frac{\\frac{v_{p} \\left(a + g\\right)}{3 a - g} - v_{p} - \\frac{\\sqrt{2} \\left(a - g\\right) \\sqrt{3 a h_{0} - g h_{0} + 2 v_{p}^{2}}}{3 a - g}}{a - g}$"
      ],
      "text/plain": [
       "                                _______________________\n",
       "                               ╱                     2 \n",
       "vₚ⋅(a + g)        √2⋅(a - g)⋅╲╱  3⋅a⋅h₀ - g⋅h₀ + 2⋅vₚ  \n",
       "────────── - vₚ - ─────────────────────────────────────\n",
       " 3⋅a - g                         3⋅a - g               \n",
       "───────────────────────────────────────────────────────\n",
       "                         a - g                         "
      ]
     },
     "execution_count": 16,
     "metadata": {},
     "output_type": "execute_result"
    }
   ],
   "source": [
    "t_sol"
   ]
  },
  {
   "cell_type": "code",
   "execution_count": 17,
   "metadata": {},
   "outputs": [
    {
     "data": {
      "image/png": "[encoded data removed]",
      "text/latex": [
       "$\\displaystyle \\frac{v_{p} \\left(a + g\\right)}{3 a - g} - \\frac{\\sqrt{2} \\left(a - g\\right) \\sqrt{3 a h_{0} - g h_{0} + 2 v_{p}^{2}}}{3 a - g}$"
      ],
      "text/plain": [
       "                           _______________________\n",
       "                          ╱                     2 \n",
       "vₚ⋅(a + g)   √2⋅(a - g)⋅╲╱  3⋅a⋅h₀ - g⋅h₀ + 2⋅vₚ  \n",
       "────────── - ─────────────────────────────────────\n",
       " 3⋅a - g                    3⋅a - g               "
      ]
     },
     "execution_count": 17,
     "metadata": {},
     "output_type": "execute_result"
    }
   ],
   "source": [
    "v_sol"
   ]
  },
  {
   "cell_type": "code",
   "execution_count": 18,
   "metadata": {},
   "outputs": [
    {
     "data": {
      "image/png": "[encoded data removed]",
      "text/latex": [
       "$\\displaystyle \\frac{- a v_{p} + a \\sqrt{6 a h_{0} - 2 g h_{0} + 4 v_{p}^{2}} + g v_{p}}{3 a - g}$"
      ],
      "text/plain": [
       "             _________________________       \n",
       "            ╱                       2        \n",
       "-a⋅vₚ + a⋅╲╱  6⋅a⋅h₀ - 2⋅g⋅h₀ + 4⋅vₚ   + g⋅vₚ\n",
       "─────────────────────────────────────────────\n",
       "                   3⋅a - g                   "
      ]
     },
     "execution_count": 18,
     "metadata": {},
     "output_type": "execute_result"
    }
   ],
   "source": [
    "d_h0_dt.subs([(t, t_sol), (v0, v_sol)]).simplify()"
   ]
  },
  {
   "cell_type": "code",
   "execution_count": 19,
   "metadata": {},
   "outputs": [
    {
     "data": {
      "image/png": "[encoded data removed]",
      "text/latex": [
       "$\\displaystyle \\frac{a v_{p} - a \\sqrt{6 a h_{0} - 2 g h_{0} + 4 v_{p}^{2}} - g v_{p}}{3 a - g}$"
      ],
      "text/plain": [
       "            _________________________       \n",
       "           ╱                       2        \n",
       "a⋅vₚ - a⋅╲╱  6⋅a⋅h₀ - 2⋅g⋅h₀ + 4⋅vₚ   - g⋅vₚ\n",
       "────────────────────────────────────────────\n",
       "                  3⋅a - g                   "
      ]
     },
     "execution_count": 19,
     "metadata": {},
     "output_type": "execute_result"
    }
   ],
   "source": [
    "d_hp_dt.subs([(t, t_sol), (v0, v_sol)]).simplify()"
   ]
  },
  {
   "cell_type": "markdown",
   "metadata": {},
   "source": [
    "### `Различные вычисления`"
   ]
  },
  {
   "cell_type": "markdown",
   "metadata": {},
   "source": [
    "#### Пределы"
   ]
  },
  {
   "cell_type": "code",
   "execution_count": 20,
   "metadata": {},
   "outputs": [
    {
     "data": {
      "image/png": "[encoded data removed]",
      "text/latex": [
       "$\\displaystyle 0$"
      ],
      "text/plain": [
       "0"
      ]
     },
     "execution_count": 20,
     "metadata": {},
     "output_type": "execute_result"
    }
   ],
   "source": [
    "x = smp.symbols('x')\n",
    "eq = x/x**2\n",
    "smp.limit(eq, x, -smp.oo)  # x -> -infinity"
   ]
  },
  {
   "cell_type": "code",
   "execution_count": 21,
   "metadata": {},
   "outputs": [
    {
     "data": {
      "image/png": "[encoded data removed]",
      "text/latex": [
       "$\\displaystyle \\frac{\\sin{\\left(x \\right)}}{x}$"
      ],
      "text/plain": [
       "sin(x)\n",
       "──────\n",
       "  x   "
      ]
     },
     "execution_count": 21,
     "metadata": {},
     "output_type": "execute_result"
    }
   ],
   "source": [
    "eq = smp.sin(x) / x\n",
    "eq\n"
   ]
  },
  {
   "cell_type": "code",
   "execution_count": 22,
   "metadata": {},
   "outputs": [
    {
     "data": {
      "image/png": "[encoded data removed]",
      "text/latex": [
       "$\\displaystyle 1$"
      ],
      "text/plain": [
       "1"
      ]
     },
     "execution_count": 22,
     "metadata": {},
     "output_type": "execute_result"
    }
   ],
   "source": [
    "smp.limit(eq, x, 0)\n"
   ]
  },
  {
   "cell_type": "markdown",
   "metadata": {},
   "source": [
    "#### Производные"
   ]
  },
  {
   "cell_type": "code",
   "execution_count": 25,
   "metadata": {},
   "outputs": [
    {
     "data": {
      "image/png": "[encoded data removed]",
      "text/latex": [
       "$\\displaystyle \\frac{\\sin{\\left(x \\right)} + 1}{\\left(1 - \\cos{\\left(x \\right)}\\right)^{2}}$"
      ],
      "text/plain": [
       "  sin(x) + 1 \n",
       "─────────────\n",
       "            2\n",
       "(1 - cos(x)) "
      ]
     },
     "execution_count": 25,
     "metadata": {},
     "output_type": "execute_result"
    }
   ],
   "source": [
    "eq = (1 + smp.sin(x))/(1 - smp.cos(x))**2\n",
    "eq"
   ]
  },
  {
   "cell_type": "code",
   "execution_count": 26,
   "metadata": {},
   "outputs": [
    {
     "data": {
      "image/png": "[encoded data removed]",
      "text/latex": [
       "$\\displaystyle \\frac{\\cos{\\left(x \\right)}}{\\left(1 - \\cos{\\left(x \\right)}\\right)^{2}} - \\frac{2 \\left(\\sin{\\left(x \\right)} + 1\\right) \\sin{\\left(x \\right)}}{\\left(1 - \\cos{\\left(x \\right)}\\right)^{3}}$"
      ],
      "text/plain": [
       "    cos(x)      2⋅(sin(x) + 1)⋅sin(x)\n",
       "───────────── - ─────────────────────\n",
       "            2                   3    \n",
       "(1 - cos(x))        (1 - cos(x))     "
      ]
     },
     "execution_count": 26,
     "metadata": {},
     "output_type": "execute_result"
    }
   ],
   "source": [
    "smp.diff(eq, x)"
   ]
  },
  {
   "cell_type": "code",
   "execution_count": 40,
   "metadata": {},
   "outputs": [
    {
     "data": {
      "image/png": "[encoded data removed]",
      "text/latex": [
       "$\\displaystyle \\frac{d}{d g{\\left(x \\right)}} f{\\left(g{\\left(x \\right)} \\right)} \\frac{d}{d x} g{\\left(x \\right)}$"
      ],
      "text/plain": [
       "  d            d       \n",
       "─────(f(g(x)))⋅──(g(x))\n",
       "dg(x)          dx      "
      ]
     },
     "execution_count": 40,
     "metadata": {},
     "output_type": "execute_result"
    }
   ],
   "source": [
    "f, g = smp.symbols(\"f g\", cls=smp.Function)\n",
    "g = g(x)\n",
    "f = f(g)\n",
    "dfdx = smp.diff(f, x)\n",
    "dfdx"
   ]
  },
  {
   "cell_type": "code",
   "execution_count": 51,
   "metadata": {},
   "outputs": [
    {
     "data": {
      "image/png": "[encoded data removed]",
      "text/latex": [
       "$\\displaystyle \\frac{d}{d x} \\sin{\\left(x \\right)} \\left. \\frac{d}{d \\xi} f{\\left(\\xi \\right)} \\right|_{\\substack{ \\xi=\\sin{\\left(x \\right)} }}$"
      ],
      "text/plain": [
       "d          ⎛d       ⎞│        \n",
       "──(sin(x))⋅⎜──(f(ξ))⎟│        \n",
       "dx         ⎝dξ      ⎠│ξ=sin(x)"
      ]
     },
     "execution_count": 51,
     "metadata": {},
     "output_type": "execute_result"
    }
   ],
   "source": [
    "dfdx.subs([(g, smp.sin(x)), (f, smp.cos(x))])"
   ]
  },
  {
   "cell_type": "markdown",
   "metadata": {},
   "source": [
    "#### Интегралы"
   ]
  },
  {
   "cell_type": "code",
   "execution_count": 69,
   "metadata": {},
   "outputs": [
    {
     "data": {
      "image/png": "[encoded data removed]",
      "text/plain": [
       "<Figure size 640x480 with 1 Axes>"
      ]
     },
     "metadata": {},
     "output_type": "display_data"
    }
   ],
   "source": [
    "integral = smp.integrate(smp.cos((x)) + 2*x, x).doit() # находим интеграл символьно\n",
    "foo = smp.lambdify([x], integral) # преобразуем его в функцию\n",
    "space = np.linspace(0, 10, 11)\n",
    "plt.plot(space, foo(space)) # строим график этой функции\n",
    "plt.xlabel(\"x\")\n",
    "plt.ylabel(integral)\n",
    "plt.show()\n"
   ]
  },
  {
   "cell_type": "code",
   "execution_count": 73,
   "metadata": {},
   "outputs": [
    {
     "data": {
      "image/png": "[encoded data removed]",
      "text/latex": [
       "$\\displaystyle - \\operatorname{asinh}{\\left(\\frac{1}{3} \\right)} + \\operatorname{asinh}{\\left(\\frac{10}{3} \\right)}$"
      ],
      "text/plain": [
       "-asinh(1/3) + asinh(10/3)"
      ]
     },
     "execution_count": 73,
     "metadata": {},
     "output_type": "execute_result"
    }
   ],
   "source": [
    "smp.integrate(smp.exp(x) / smp.sqrt(smp.exp(2*x) + 9), (x, 0, smp.log(10))) # используем пределы интегрирования"
   ]
  },
  {
   "cell_type": "code",
   "execution_count": 77,
   "metadata": {},
   "outputs": [
    {
     "data": {
      "image/png": "[encoded data removed]",
      "text/latex": [
       "$\\displaystyle \\left(10 t^{3} - 30 t^{2} + 60 t - 60\\right) e^{t} + 20 e$"
      ],
      "text/plain": [
       "⎛    3       2            ⎞  t       \n",
       "⎝10⋅t  - 30⋅t  + 60⋅t - 60⎠⋅ℯ  + 20⋅ℯ"
      ]
     },
     "execution_count": 77,
     "metadata": {},
     "output_type": "execute_result"
    }
   ],
   "source": [
    "t = smp.symbols(\"t\")\n",
    "smp.integrate(x**3*10*smp.exp(x), (x,1,t))  # предел интегрирования может быть символьным"
   ]
  },
  {
   "cell_type": "code",
   "execution_count": 86,
   "metadata": {},
   "outputs": [
    {
     "data": {
      "image/png": "[encoded data removed]",
      "text/latex": [
       "$\\displaystyle 1$"
      ],
      "text/plain": [
       "1"
      ]
     },
     "execution_count": 86,
     "metadata": {},
     "output_type": "execute_result"
    }
   ],
   "source": [
    "smp.integrate(smp.exp(x), (x, -smp.oo, 0)) # даже может взять интеграл с бесконечным пределом (если он сходится конечно)"
   ]
  },
  {
   "cell_type": "markdown",
   "metadata": {},
   "source": [
    "### `Линал и векторы`"
   ]
  },
  {
   "cell_type": "code",
   "execution_count": 90,
   "metadata": {},
   "outputs": [
    {
     "data": {
      "image/png": "[encoded data removed]",
      "text/latex": [
       "$\\displaystyle u_{2}$"
      ],
      "text/plain": [
       "u₂"
      ]
     },
     "execution_count": 90,
     "metadata": {},
     "output_type": "execute_result"
    }
   ],
   "source": [
    "x, y, z, u, u1, u2, v, v1, v2 = smp.symbols(\"x y z u u_1 u_2 v v_1 v_2\")\n"
   ]
  },
  {
   "cell_type": "markdown",
   "metadata": {},
   "source": [
    "#### Базовые операции с векторами"
   ]
  },
  {
   "cell_type": "code",
   "execution_count": 98,
   "metadata": {},
   "outputs": [
    {
     "data": {
      "text/latex": [
       "$\\displaystyle \\left[\\begin{matrix}2 u + v\\\\2 u_{1} + v_{1}\\\\2 u_{2} + v_{2}\\end{matrix}\\right]$"
      ],
      "text/plain": [
       "⎡ 2⋅u + v ⎤\n",
       "⎢         ⎥\n",
       "⎢2⋅u₁ + v₁⎥\n",
       "⎢         ⎥\n",
       "⎣2⋅u₂ + v₂⎦"
      ]
     },
     "execution_count": 98,
     "metadata": {},
     "output_type": "execute_result"
    }
   ],
   "source": [
    "U = smp.Matrix([u, u1, u2]) # одномерный вектор\n",
    "V = smp.Matrix([v, v1, v2])\n",
    "2*U + V"
   ]
  },
  {
   "cell_type": "code",
   "execution_count": 99,
   "metadata": {},
   "outputs": [
    {
     "data": {
      "image/png": "[encoded data removed]",
      "text/latex": [
       "$\\displaystyle u v + u_{1} v_{1} + u_{2} v_{2}$"
      ],
      "text/plain": [
       "u⋅v + u₁⋅v₁ + u₂⋅v₂"
      ]
     },
     "execution_count": 99,
     "metadata": {},
     "output_type": "execute_result"
    }
   ],
   "source": [
    "U.dot(V) # скалярное произведение векторов"
   ]
  },
  {
   "cell_type": "code",
   "execution_count": 100,
   "metadata": {},
   "outputs": [
    {
     "data": {
      "text/latex": [
       "$\\displaystyle \\left[\\begin{matrix}- u_{1} v_{2} + u_{2} v_{1}\\\\u v_{2} - u_{2} v\\\\- u v_{1} + u_{1} v\\end{matrix}\\right]$"
      ],
      "text/plain": [
       "⎡-u₁⋅v₂ + u₂⋅v₁⎤\n",
       "⎢              ⎥\n",
       "⎢ u⋅v₂ - u₂⋅v  ⎥\n",
       "⎢              ⎥\n",
       "⎣ -u⋅v₁ + u₁⋅v ⎦"
      ]
     },
     "execution_count": 100,
     "metadata": {},
     "output_type": "execute_result"
    }
   ],
   "source": [
    "V.cross(U) # векторное произведение векторов"
   ]
  },
  {
   "cell_type": "code",
   "execution_count": 101,
   "metadata": {},
   "outputs": [
    {
     "data": {
      "text/latex": [
       "$\\displaystyle \\left[\\begin{matrix}u_{1} v_{2} - u_{2} v_{1}\\\\- u v_{2} + u_{2} v\\\\u v_{1} - u_{1} v\\end{matrix}\\right]$"
      ],
      "text/plain": [
       "⎡u₁⋅v₂ - u₂⋅v₁⎤\n",
       "⎢             ⎥\n",
       "⎢-u⋅v₂ + u₂⋅v ⎥\n",
       "⎢             ⎥\n",
       "⎣ u⋅v₁ - u₁⋅v ⎦"
      ]
     },
     "execution_count": 101,
     "metadata": {},
     "output_type": "execute_result"
    }
   ],
   "source": [
    "U.cross(V)"
   ]
  },
  {
   "cell_type": "markdown",
   "metadata": {},
   "source": [
    "#### Векторные производные "
   ]
  },
  {
   "cell_type": "code",
   "execution_count": 107,
   "metadata": {},
   "outputs": [
    {
     "data": {
      "text/latex": [
       "$\\displaystyle \\left[\\begin{matrix}3 t\\\\\\sin{\\left(t \\right)}\\\\t^{2}\\end{matrix}\\right]$"
      ],
      "text/plain": [
       "⎡ 3⋅t  ⎤\n",
       "⎢      ⎥\n",
       "⎢sin(t)⎥\n",
       "⎢      ⎥\n",
       "⎢   2  ⎥\n",
       "⎣  t   ⎦"
      ]
     },
     "execution_count": 107,
     "metadata": {},
     "output_type": "execute_result"
    }
   ],
   "source": [
    "r = smp.Matrix([3*t, smp.sin(t), t**2]) # задаем вектор-функцию\n",
    "r"
   ]
  },
  {
   "cell_type": "code",
   "execution_count": 105,
   "metadata": {},
   "outputs": [
    {
     "data": {
      "text/latex": [
       "$\\displaystyle \\left[\\begin{matrix}0\\\\- \\sin{\\left(t \\right)}\\\\2\\end{matrix}\\right]$"
      ],
      "text/plain": [
       "⎡   0   ⎤\n",
       "⎢       ⎥\n",
       "⎢-sin(t)⎥\n",
       "⎢       ⎥\n",
       "⎣   2   ⎦"
      ]
     },
     "execution_count": 105,
     "metadata": {},
     "output_type": "execute_result"
    }
   ],
   "source": [
    "v = smp.diff(r, t) # вектор, определяющий скорость точки\n",
    "a = smp.diff(v, t) # вектор, определяющий ускорение точки\n",
    "a"
   ]
  },
  {
   "cell_type": "code",
   "execution_count": 114,
   "metadata": {},
   "outputs": [
    {
     "data": {
      "image/png": "[encoded data removed]",
      "text/latex": [
       "$\\displaystyle \\operatorname{acos}{\\left(\\frac{4 t - \\frac{\\sin{\\left(2 t \\right)}}{2}}{\\sqrt{\\left|{\\sin{\\left(t \\right)}}\\right|^{2} + 4} \\sqrt{4 \\left|{t}\\right|^{2} + \\left|{\\cos{\\left(t \\right)}}\\right|^{2} + 9}} \\right)}$"
      ],
      "text/plain": [
       "    ⎛                      sin(2⋅t)                ⎞\n",
       "    ⎜                4⋅t - ────────                ⎟\n",
       "    ⎜                         2                    ⎟\n",
       "acos⎜──────────────────────────────────────────────⎟\n",
       "    ⎜   _______________    ________________________⎟\n",
       "    ⎜  ╱         2        ╱      2           2     ⎟\n",
       "    ⎝╲╱  │sin(t)│  + 4 ⋅╲╱  4⋅│t│  + │cos(t)│  + 9 ⎠"
      ]
     },
     "execution_count": 114,
     "metadata": {},
     "output_type": "execute_result"
    }
   ],
   "source": [
    "theta_angle = smp.acos(v.dot(a)/(v.norm()*a.norm())).simplify() # находим угол между векторами через скалярное произведение\n",
    "theta_angle \n"
   ]
  },
  {
   "cell_type": "code",
   "execution_count": 158,
   "metadata": {},
   "outputs": [
    {
     "data": {
      "image/png": "[encoded data removed]",
      "text/plain": [
       "<Figure size 640x480 with 1 Axes>"
      ]
     },
     "metadata": {},
     "output_type": "display_data"
    }
   ],
   "source": [
    "foo = smp.lambdify([t], theta_angle)  # преобразуем в функцию\n",
    "space = np.linspace(0, 10, 100) # линспейс для аргументов\n",
    "plt.plot(space, foo(space)*180/smp.pi, color=(1,0.1, 0.3))\n",
    "plt.xlabel(t)\n",
    "plt.ylabel(\"theta\")\n",
    "plt.title(\"Угол между векторами скорости и ускорения\")\n",
    "plt.show()"
   ]
  },
  {
   "cell_type": "markdown",
   "metadata": {},
   "source": [
    "#### Матрицы"
   ]
  },
  {
   "cell_type": "code",
   "execution_count": 221,
   "metadata": {},
   "outputs": [
    {
     "data": {
      "text/latex": [
       "$\\displaystyle \\left[\\begin{matrix}x & 2 & y\\\\4 & z & u\\end{matrix}\\right]$"
      ],
      "text/plain": [
       "⎡x  2  y⎤\n",
       "⎢       ⎥\n",
       "⎣4  z  u⎦"
      ]
     },
     "execution_count": 221,
     "metadata": {},
     "output_type": "execute_result"
    }
   ],
   "source": [
    "A = smp.Matrix([[x,2,y], [4,z,u]])\n",
    "smp.shape(A) \n",
    "A.shape # same thing\\\n",
    "A"
   ]
  },
  {
   "cell_type": "code",
   "execution_count": 222,
   "metadata": {},
   "outputs": [
    {
     "data": {
      "text/latex": [
       "$\\displaystyle \\left[\\begin{matrix}4 & z & u\\end{matrix}\\right]$"
      ],
      "text/plain": [
       "[4  z  u]"
      ]
     },
     "execution_count": 222,
     "metadata": {},
     "output_type": "execute_result"
    }
   ],
   "source": [
    "A.row(1)"
   ]
  },
  {
   "cell_type": "code",
   "execution_count": 223,
   "metadata": {},
   "outputs": [
    {
     "data": {
      "text/latex": [
       "$\\displaystyle \\left[\\begin{matrix}y\\\\u\\end{matrix}\\right]$"
      ],
      "text/plain": [
       "⎡y⎤\n",
       "⎢ ⎥\n",
       "⎣u⎦"
      ]
     },
     "execution_count": 223,
     "metadata": {},
     "output_type": "execute_result"
    }
   ],
   "source": [
    "A.col(2)\n"
   ]
  },
  {
   "cell_type": "code",
   "execution_count": 225,
   "metadata": {},
   "outputs": [],
   "source": [
    "A.col_del(0)\n"
   ]
  },
  {
   "cell_type": "code",
   "execution_count": 224,
   "metadata": {},
   "outputs": [
    {
     "data": {
      "text/latex": [
       "$\\displaystyle \\left[\\begin{matrix}1 & x & 2 & y\\\\4 & 4 & z & u\\end{matrix}\\right]$"
      ],
      "text/plain": [
       "⎡1  x  2  y⎤\n",
       "⎢          ⎥\n",
       "⎣4  4  z  u⎦"
      ]
     },
     "execution_count": 224,
     "metadata": {},
     "output_type": "execute_result"
    }
   ],
   "source": [
    "A.col_insert(0,smp.Matrix([1,4]))"
   ]
  },
  {
   "cell_type": "code",
   "execution_count": 226,
   "metadata": {},
   "outputs": [
    {
     "data": {
      "text/latex": [
       "$\\displaystyle \\left[\\begin{matrix}- \\frac{u}{- 2 u + y z} & \\frac{y}{- 2 u + y z}\\\\- \\frac{z}{2 u - y z} & \\frac{2}{2 u - y z}\\end{matrix}\\right]$"
      ],
      "text/plain": [
       "⎡   -u           y     ⎤\n",
       "⎢──────────  ──────────⎥\n",
       "⎢-2⋅u + y⋅z  -2⋅u + y⋅z⎥\n",
       "⎢                      ⎥\n",
       "⎢   -z           2     ⎥\n",
       "⎢─────────   ───────── ⎥\n",
       "⎣2⋅u - y⋅z   2⋅u - y⋅z ⎦"
      ]
     },
     "execution_count": 226,
     "metadata": {},
     "output_type": "execute_result"
    }
   ],
   "source": [
    "A**-1 # обратная матрица"
   ]
  },
  {
   "cell_type": "code",
   "execution_count": 227,
   "metadata": {},
   "outputs": [
    {
     "data": {
      "text/latex": [
       "$\\displaystyle \\left[\\begin{matrix}2 & z\\\\y & u\\end{matrix}\\right]$"
      ],
      "text/plain": [
       "⎡2  z⎤\n",
       "⎢    ⎥\n",
       "⎣y  u⎦"
      ]
     },
     "execution_count": 227,
     "metadata": {},
     "output_type": "execute_result"
    }
   ],
   "source": [
    "A.T # транспонирование"
   ]
  },
  {
   "cell_type": "code",
   "execution_count": 228,
   "metadata": {},
   "outputs": [
    {
     "data": {
      "text/latex": [
       "$\\displaystyle \\left[\\begin{matrix}1 & 0 & 0\\\\0 & 1 & 0\\\\0 & 0 & 1\\end{matrix}\\right]$"
      ],
      "text/plain": [
       "⎡1  0  0⎤\n",
       "⎢       ⎥\n",
       "⎢0  1  0⎥\n",
       "⎢       ⎥\n",
       "⎣0  0  1⎦"
      ]
     },
     "execution_count": 228,
     "metadata": {},
     "output_type": "execute_result"
    }
   ],
   "source": [
    "B = smp.eye(3) # единичная матрица\n",
    "B"
   ]
  },
  {
   "cell_type": "code",
   "execution_count": 229,
   "metadata": {},
   "outputs": [
    {
     "data": {
      "image/png": "[encoded data removed]",
      "text/latex": [
       "$\\displaystyle \\left\\{ 1 : 3\\right\\}$"
      ],
      "text/plain": [
       "{1: 3}"
      ]
     },
     "execution_count": 229,
     "metadata": {},
     "output_type": "execute_result"
    }
   ],
   "source": [
    "B.eigenvals()"
   ]
  },
  {
   "cell_type": "code",
   "execution_count": 230,
   "metadata": {},
   "outputs": [
    {
     "data": {
      "text/latex": [
       "$\\displaystyle \\left[ \\left( 1, \\  3, \\  \\left[ \\left[\\begin{matrix}1\\\\0\\\\0\\end{matrix}\\right], \\  \\left[\\begin{matrix}0\\\\1\\\\0\\end{matrix}\\right], \\  \\left[\\begin{matrix}0\\\\0\\\\1\\end{matrix}\\right]\\right]\\right)\\right]$"
      ],
      "text/plain": [
       "⎡⎛      ⎡⎡1⎤  ⎡0⎤  ⎡0⎤⎤⎞⎤\n",
       "⎢⎜      ⎢⎢ ⎥  ⎢ ⎥  ⎢ ⎥⎥⎟⎥\n",
       "⎢⎜1, 3, ⎢⎢0⎥, ⎢1⎥, ⎢0⎥⎥⎟⎥\n",
       "⎢⎜      ⎢⎢ ⎥  ⎢ ⎥  ⎢ ⎥⎥⎟⎥\n",
       "⎣⎝      ⎣⎣0⎦  ⎣0⎦  ⎣1⎦⎦⎠⎦"
      ]
     },
     "execution_count": 230,
     "metadata": {},
     "output_type": "execute_result"
    }
   ],
   "source": [
    "B.eigenvects()"
   ]
  }
 ],
 "metadata": {
  "kernelspec": {
   "display_name": ".venv",
   "language": "python",
   "name": "python3"
  },
  "language_info": {
   "codemirror_mode": {
    "name": "ipython",
    "version": 3
   },
   "file_extension": ".py",
   "mimetype": "text/x-python",
   "name": "python",
   "nbconvert_exporter": "python",
   "pygments_lexer": "ipython3",
   "version": "3.11.2"
  }
 },
 "nbformat": 4,
 "nbformat_minor": 2
}
